{
  "nbformat": 4,
  "nbformat_minor": 0,
  "metadata": {
    "colab": {
      "provenance": [],
      "authorship_tag": "ABX9TyMwlAMcx8MmJ8QdZEjcb7We",
      "include_colab_link": true
    },
    "kernelspec": {
      "name": "python3",
      "display_name": "Python 3"
    },
    "language_info": {
      "name": "python"
    }
  },
  "cells": [
    {
      "cell_type": "markdown",
      "metadata": {
        "id": "view-in-github",
        "colab_type": "text"
      },
      "source": [
        "<a href=\"https://colab.research.google.com/github/TejashreeKarekar/DS_Projects/blob/main/Titanic.ipynb\" target=\"_parent\"><img src=\"https://colab.research.google.com/assets/colab-badge.svg\" alt=\"Open In Colab\"/></a>"
      ]
    },
    {
      "cell_type": "code",
      "execution_count": 2,
      "metadata": {
        "id": "Z1rbywmyJ6q4",
        "colab": {
          "base_uri": "https://localhost:8080/"
        },
        "outputId": "9e50b4dd-ef1e-4127-946d-56383d791fae"
      },
      "outputs": [
        {
          "output_type": "stream",
          "name": "stdout",
          "text": [
            "Logistic Regression Accuracy: 0.53125\n",
            "Classification Report:\n",
            "               precision    recall  f1-score   support\n",
            "\n",
            "           0       0.51      0.61      0.55        76\n",
            "           1       0.57      0.46      0.51        84\n",
            "\n",
            "    accuracy                           0.53       160\n",
            "   macro avg       0.54      0.53      0.53       160\n",
            "weighted avg       0.54      0.53      0.53       160\n",
            "\n",
            "Confusion Matrix:\n",
            " [[46 30]\n",
            " [45 39]]\n"
          ]
        }
      ],
      "source": [
        "import pandas as pd\n",
        "from sklearn.linear_model import LogisticRegression\n",
        "from sklearn.model_selection import train_test_split\n",
        "from sklearn.metrics import accuracy_score, classification_report, confusion_matrix\n",
        "from imblearn.over_sampling import SMOTE\n",
        "from sklearn.decomposition import PCA\n",
        "\n",
        "# Load data and select relevant columns\n",
        "df = pd.read_csv(\"tested.csv\")\n",
        "df = df[['Pclass', 'Sex', 'Survived', 'Age']]\n",
        "\n",
        "# Handle missing values\n",
        "df['Age'].fillna(df['Age'].median(), inplace=True)\n",
        "\n",
        "# Convert categorical variables into numeric variables\n",
        "df['Sex'] = df['Sex'].map({'male': 0, 'female': 1})\n",
        "\n",
        "# Feature selection\n",
        "X = df[['Pclass', 'Sex', 'Age']]\n",
        "y = df['Survived']\n",
        "\n",
        "# Handle outliers using a function\n",
        "def handle_outliers(df, column):\n",
        "    Q1 = df[column].quantile(0.25)\n",
        "    Q3 = df[column].quantile(0.75)\n",
        "    IQR = Q3 - Q1\n",
        "    lower_bound = Q1 - 1.5 * IQR\n",
        "    upper_bound = Q3 + 1.5 * IQR\n",
        "    df[column] = df[column].apply(lambda x: upper_bound if x > upper_bound else (lower_bound if x < lower_bound else x))\n",
        "\n",
        "handle_outliers(df, 'Age')\n",
        "\n",
        "# Handle data imbalance using SMOTE\n",
        "smote = SMOTE(random_state=0)\n",
        "X, y = smote.fit_resample(X, y)\n",
        "\n",
        "# Dimensionality reduction using PCA\n",
        "pca = PCA(n_components=2)\n",
        "X = pca.fit_transform(X)\n",
        "\n",
        "# Split data into training and testing sets\n",
        "X_train, X_test, y_train, y_test = train_test_split(X, y, random_state=0, test_size=0.3)\n",
        "\n",
        "# Initialize and train logistic regression model\n",
        "logr = LogisticRegression()\n",
        "logr.fit(X_train, y_train)\n",
        "\n",
        "# Predict on test data\n",
        "y_pred = logr.predict(X_test)\n",
        "\n",
        "# Print evaluation metrics\n",
        "print('Logistic Regression Accuracy:', accuracy_score(y_test, y_pred))\n",
        "print('Classification Report:\\n', classification_report(y_test, y_pred))\n",
        "print('Confusion Matrix:\\n', confusion_matrix(y_test, y_pred))\n",
        "\n"
      ]
    },
    {
      "cell_type": "code",
      "source": [
        "#Naive Bayes\n",
        "from sklearn.naive_bayes import GaussianNB\n",
        "\n",
        "# Continue with the same dataframe `df` loaded previously\n",
        "\n",
        "# No need to handle outliers and imbalance again\n",
        "# PCA reduction is also not necessary for Naive Bayes\n",
        "\n",
        "# Split data into training and testing sets\n",
        "X_train, X_test, y_train, y_test = train_test_split(X, y, random_state=0, test_size=0.3)\n",
        "\n",
        "# Initialize and train Naive Bayes classifier\n",
        "nb = GaussianNB()\n",
        "nb.fit(X_train, y_train)\n",
        "\n",
        "# Predict on test data\n",
        "y_pred = nb.predict(X_test)\n",
        "\n",
        "# Print evaluation metrics\n",
        "print('Naive Bayes Accuracy:', accuracy_score(y_test, y_pred))\n",
        "print('Classification Report:\\n', classification_report(y_test, y_pred))\n",
        "print('Confusion Matrix:\\n', confusion_matrix(y_test, y_pred))\n",
        "\n"
      ],
      "metadata": {
        "colab": {
          "base_uri": "https://localhost:8080/"
        },
        "id": "J7johgmMLnZs",
        "outputId": "20484b53-716a-46f8-d529-1c944e02a673"
      },
      "execution_count": 3,
      "outputs": [
        {
          "output_type": "stream",
          "name": "stdout",
          "text": [
            "Naive Bayes Accuracy: 0.6\n",
            "Classification Report:\n",
            "               precision    recall  f1-score   support\n",
            "\n",
            "           0       0.56      0.70      0.62        76\n",
            "           1       0.65      0.51      0.57        84\n",
            "\n",
            "    accuracy                           0.60       160\n",
            "   macro avg       0.61      0.60      0.60       160\n",
            "weighted avg       0.61      0.60      0.60       160\n",
            "\n",
            "Confusion Matrix:\n",
            " [[53 23]\n",
            " [41 43]]\n"
          ]
        }
      ]
    },
    {
      "cell_type": "code",
      "source": [
        "from sklearn.neighbors import KNeighborsClassifier\n",
        "\n",
        "# Continue with the same dataframe `df` loaded previously\n",
        "\n",
        "# No need to handle outliers and imbalance again\n",
        "# PCA reduction is also not necessary for KNN\n",
        "\n",
        "# Split data into training and testing sets\n",
        "X_train, X_test, y_train, y_test = train_test_split(X, y, random_state=0, test_size=0.3)\n",
        "\n",
        "# Initialize and train KNN classifier\n",
        "knn = KNeighborsClassifier(n_neighbors=5)\n",
        "knn.fit(X_train, y_train)\n",
        "\n",
        "# Predict on test data\n",
        "y_pred = knn.predict(X_test)\n",
        "\n",
        "# Print evaluation metrics\n",
        "print('KNN Accuracy:', accuracy_score(y_test, y_pred))\n"
      ],
      "metadata": {
        "colab": {
          "base_uri": "https://localhost:8080/"
        },
        "id": "YJgzPvayLx0I",
        "outputId": "a2896394-d06d-46b4-bf68-ca9407fe2961"
      },
      "execution_count": 4,
      "outputs": [
        {
          "output_type": "stream",
          "name": "stdout",
          "text": [
            "KNN Accuracy: 0.70625\n"
          ]
        }
      ]
    },
    {
      "cell_type": "code",
      "source": [
        "\n",
        "#Decision Tree\n",
        "from sklearn.tree import DecisionTreeClassifier\n",
        "\n",
        "# Continue with the same dataframe `df` loaded previously\n",
        "\n",
        "# No need to handle outliers and imbalance again\n",
        "# PCA reduction is also not necessary for Decision Tree\n",
        "\n",
        "# Split data into training and testing sets\n",
        "X_train, X_test, y_train, y_test = train_test_split(X, y, random_state=0, test_size=0.3)\n",
        "\n",
        "# Initialize and train Decision Tree classifier\n",
        "dt = DecisionTreeClassifier()\n",
        "dt.fit(X_train, y_train)\n",
        "\n",
        "# Predict on test data\n",
        "y_pred = dt.predict(X_test)\n",
        "\n",
        "# Print evaluation metrics\n",
        "print('Decision Tree Accuracy:', accuracy_score(y_test, y_pred))"
      ],
      "metadata": {
        "colab": {
          "base_uri": "https://localhost:8080/"
        },
        "id": "8MsICkZIL4PD",
        "outputId": "fa4c98a0-4c65-4768-e5fa-5ab1cd5df1a3"
      },
      "execution_count": 5,
      "outputs": [
        {
          "output_type": "stream",
          "name": "stdout",
          "text": [
            "Decision Tree Accuracy: 0.89375\n"
          ]
        }
      ]
    },
    {
      "cell_type": "code",
      "source": [
        "#Random Tree\n",
        "from sklearn.ensemble import RandomForestClassifier\n",
        "\n",
        "# Continue with the same dataframe `df` loaded previously\n",
        "\n",
        "# No need to handle outliers and imbalance again\n",
        "# PCA reduction is also not necessary for Random Forest\n",
        "\n",
        "# Split data into training and testing sets\n",
        "X_train, X_test, y_train, y_test = train_test_split(X, y, random_state=0, test_size=0.3)\n",
        "\n",
        "# Initialize and train Random Forest classifier\n",
        "rf = RandomForestClassifier()\n",
        "rf.fit(X_train, y_train)\n",
        "\n",
        "# Predict on test data\n",
        "y_pred = rf.predict(X_test)\n",
        "\n",
        "# Print evaluation metrics\n",
        "print('Random Forest Accuracy:', accuracy_score(y_test, y_pred))\n"
      ],
      "metadata": {
        "colab": {
          "base_uri": "https://localhost:8080/"
        },
        "id": "H9h37l4zL95D",
        "outputId": "864b5ba3-23ea-4bd8-bc77-b3d85bfc8500"
      },
      "execution_count": 6,
      "outputs": [
        {
          "output_type": "stream",
          "name": "stdout",
          "text": [
            "Random Forest Accuracy: 0.85625\n"
          ]
        }
      ]
    },
    {
      "cell_type": "code",
      "source": [
        "#Gradient Boosting\n",
        "from sklearn.ensemble import GradientBoostingClassifier\n",
        "\n",
        "# Continue with the same dataframe `df` loaded previously\n",
        "\n",
        "# No need to handle outliers and imbalance again\n",
        "# PCA reduction is also not necessary for Gradient Boosting\n",
        "\n",
        "# Split data into training and testing sets\n",
        "X_train, X_test, y_train, y_test = train_test_split(X, y, random_state=0, test_size=0.3)\n",
        "\n",
        "# Initialize and train Gradient Boosting classifier\n",
        "gbm = GradientBoostingClassifier(n_estimators=10)\n",
        "gbm.fit(X_train, y_train)\n",
        "\n",
        "# Predict on test data\n",
        "y_pred = gbm.predict(X_test)\n",
        "\n",
        "# Print evaluation metrics\n",
        "print('Gradient Boosting Accuracy:', accuracy_score(y_test, y_pred))"
      ],
      "metadata": {
        "colab": {
          "base_uri": "https://localhost:8080/"
        },
        "id": "70p8tX-gMJTC",
        "outputId": "03a02c9f-06c8-4db1-8911-91750ef62b90"
      },
      "execution_count": 7,
      "outputs": [
        {
          "output_type": "stream",
          "name": "stdout",
          "text": [
            "Gradient Boosting Accuracy: 0.675\n"
          ]
        }
      ]
    }
  ]
}